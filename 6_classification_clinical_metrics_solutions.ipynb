{
 "cells": [
  {
   "cell_type": "markdown",
   "metadata": {},
   "source": [
    "# Case Study"
   ]
  },
  {
   "cell_type": "markdown",
   "metadata": {},
   "source": [
    "# Objective\n",
    "\n",
    "Train a simple deep nerual netowrk (DNN) to classify between groups of subjects\n"
   ]
  },
  {
   "cell_type": "markdown",
   "metadata": {},
   "source": [
    "# Background\n",
    "\n",
    "Heart disease is the leading cause of death globally. __Heart failure__ and __Hypertrophic cardiomyopathy__  are the primary cause of heart diseases, and that refers to a physiological state in which the heart is unable to pump sufficiently to maintain blood flow to meet the body's need. It usually occurs because the heart has become too weak or stiff. \n",
    "\n",
    "HF is routinely diagnosed by:\n",
    "* __Electrocardiogram (ECG)__, which measure heart's rhythm and electrical activity. From the ECG the QRS duration can be computed. An increased QRS duration, indicate dyssynchronous contraction and relaxation of the left and right ventricles and it is a marker of detection of HF subjects.\n",
    "* __MRI__ or __US imaging__ which provides structural and functional information of the heart. Evaluation of the structure and the function of the ventricles can provide useful information for diagnosis and characterization of disease. \n",
    " \t \t\n",
    "Based on the result of these tests, doctors use NYHA class to classify patients' heart failure according to the severity of their symptoms:\n",
    "\n",
    "__Class I__: no limitation is experienced in any activities; there are no symptoms from ordinary activities.\n",
    "\n",
    "__Class II__: slight, mild limitation of activity; the patient is comfortable at rest or with mild exertion.\n",
    "\n",
    "__Class III__: marked limitation of any activity; the patient is comfortable only at rest.\n",
    "\n",
    "__Class IV__: any physical activity brings on discomfort and symptoms occur at rest.\n",
    "\n",
    "### Current diagnostic technique\n",
    "\n",
    "Currently, the parameters used in clinics to identify cardiac patients are:\n",
    "* __LVEDV__ which is the maximum amount of blood that heart can pump\n",
    "* __LVESV__ which is the minium amount of blood that heart can pump\n",
    "* __LVSV__ which is the amount of blood pumped by the left ventricle of the heart in one contraction. \n",
    "* __Ejection fraction (EF)__, which computes the amount of blood of the left ventricle (LV) pumps out with each contraction. A normal heart’s ejection fraction may be between 50 and 70 percent.\n",
    "\n",
    "\n",
    "### Analsysis\n",
    "\n",
    "In this case study we aim develop a DNN network to classify between the healthy, heart failure and hypertrophic cardiomyopathy subjects."
   ]
  },
  {
   "cell_type": "markdown",
   "metadata": {},
   "source": [
    "# Imports"
   ]
  },
  {
   "cell_type": "code",
   "execution_count": 1,
   "metadata": {},
   "outputs": [],
   "source": [
    "from __future__ import print_function, division\n",
    "\n",
    "import os\n",
    "\n",
    "import numpy as np\n",
    "import pylab as plt\n",
    "import torch\n",
    "from sklearn.metrics import balanced_accuracy_score\n",
    "from sklearn.metrics import precision_score, recall_score\n",
    "from sklearn.model_selection import StratifiedShuffleSplit\n",
    "from torch.nn import functional as F\n",
    "\n"
   ]
  },
  {
   "cell_type": "markdown",
   "metadata": {},
   "source": [
    "# Functions"
   ]
  },
  {
   "cell_type": "code",
   "execution_count": 2,
   "metadata": {},
   "outputs": [],
   "source": [
    "def compute_metrics(y_true, yPred, target_names):\n",
    "    \"\"\" Compute metrics\n",
    "    Parameters\n",
    "    ----------\n",
    "    yPred: labels predicted using DNN\n",
    "    y_true: ground truth labels\n",
    "    target_names:  names matching the labels\n",
    "    \"\"\"\n",
    "\n",
    "    BACC = balanced_accuracy_score(y_true, yPred)\n",
    "    PRE = precision_score(y_true, yPred, average=None)\n",
    "    REC = recall_score(y_true, yPred, average=None)\n",
    "    print('Balanced accuracy  {0:.2f}'.format(BACC))\n",
    "\n",
    "    headers = [\"precision\", \"recall\"]\n",
    "\n",
    "    rows = zip(target_names, PRE, REC)\n",
    "\n",
    "    digits = 2\n",
    "    longest_last_line_heading = 'weighted avg'\n",
    "    name_width = max(len(cn) for cn in target_names)\n",
    "    width = max(name_width, len(longest_last_line_heading), digits)\n",
    "    head_fmt = u'{:>{width}s} ' + u' {:>9}' * len(headers)\n",
    "    report = head_fmt.format(u'', *headers, width=width)\n",
    "    report += u'\\n\\n'\n",
    "    row_fmt = u'{:>{width}s} ' + u' {:>9.{digits}f}' + u' {:>9}\\n'\n",
    "    for row in rows:\n",
    "        report += row_fmt.format(*row, width=width, digits=digits)\n",
    "    report += u'\\n'\n",
    "\n",
    "    print(report)\n",
    "\n",
    "    return BACC * 100, PRE * 100, REC * 100\n",
    "\n",
    "class DNN_generic(torch.nn.Module):\n",
    "    '''Plain dense neural network of linear layers using dropout and ReLU activation.'''\n",
    "\n",
    "    def __init__(self, inChannels, outChannels, hiddenChannels, dropout=0, bias=True):\n",
    "        '''\n",
    "        Defines a network accept input with `inChannels' channels, output of `outChannels' channels, and hidden layers\n",
    "        with channels given in `hiddenChannels'. If `bias' is True then linear units have a bias term.\n",
    "        '''\n",
    "        super().__init__()\n",
    "        self.inChannels = inChannels\n",
    "        self.outChannels = outChannels\n",
    "        self.dropout = dropout\n",
    "        self.hiddenChannels = list(hiddenChannels)\n",
    "        self.hiddens = torch.nn.Sequential()\n",
    "\n",
    "        prevChannels = self.inChannels\n",
    "        for i, c in enumerate(hiddenChannels):\n",
    "            self.hiddens.add_module('hidden_%i' % i, self._getLayer(prevChannels, c, bias))\n",
    "            prevChannels = c\n",
    "\n",
    "        self.output = torch.nn.Linear(prevChannels, outChannels, bias)\n",
    "\n",
    "    def _getLayer(self, inChannels, outChannels, bias):\n",
    "        return torch.nn.Sequential(\n",
    "            torch.nn.Linear(inChannels, outChannels, bias),\n",
    "            torch.nn.Dropout(self.dropout),\n",
    "            torch.nn.ReLU()\n",
    "        )\n",
    "\n",
    "    def forward(self, x):\n",
    "        b = x.shape[0]\n",
    "        x = x.view(b, -1)\n",
    "        x = self.hiddens(x)\n",
    "        x = self.output(x)\n",
    "        return F.softmax(x, 1)\n",
    "\n",
    "\n",
    "class DNN(torch.nn.Module):\n",
    "    '''Plain dense neural network of linear layers using dropout and ReLU activation.'''\n",
    "\n",
    "    def __init__(self, numClasses):\n",
    "        super().__init__()\n",
    "        self.hiddens = torch.nn.Sequential(\n",
    "            torch.nn.Linear(4, 20),\n",
    "            torch.nn.Dropout(0.05),\n",
    "            torch.nn.ReLU(),\n",
    "            torch.nn.Linear(20, 10),\n",
    "            torch.nn.Dropout(0.05),\n",
    "            torch.nn.ReLU(),\n",
    "            torch.nn.Linear(10, numClasses),\n",
    "        )\n",
    "\n",
    "    def forward(self, x):\n",
    "        b = x.shape[0]\n",
    "        x = x.view(b, -1)\n",
    "        x = self.hiddens(x)\n",
    "        return F.softmax(x, 1)"
   ]
  },
  {
   "cell_type": "markdown",
   "metadata": {},
   "source": [
    "# Set paths and hyperparameters"
   ]
  },
  {
   "cell_type": "code",
   "execution_count": 3,
   "metadata": {},
   "outputs": [],
   "source": [
    "# If you use google cloab\n",
    "![ -f data.npz ] || wget https://github.com/ericspod/VPHSummerSchool2019/raw/master/data.npz\n",
    "data_file_name = 'data.npz'\n",
    "nb_iters = 100000\n",
    "\n",
    "# If you use local Anaconda\n",
    "# data_dir = '/home/epu14/SummerSchool' # Modify this path to your own directory!!\n",
    "# data_file_name = 'data.npz'\n",
    "# data_file_name = os.path.join(data_dir, data_file_name)\n",
    "#  nb_iters = 100000"
   ]
  },
  {
   "cell_type": "markdown",
   "metadata": {},
   "source": [
    "# Compute cardiac metrics\n",
    "\n",
    "First load the data and based on the segmentations compute:\n",
    "\n",
    "- LVEDV (maximum volume of the cardiac cycle)\n",
    "- LVESV (minimum volume of the cardiac cycle)\n",
    "- LVSV = LVEDV - LVESV \n",
    "- LVEF = LVSV/LVEDV*100 \n",
    "\n",
    "Then:\n",
    "- Generate a matrix ```metrics``` that concatenate LVEDV, LVESV, LVSV and LVEF"
   ]
  },
  {
   "cell_type": "code",
   "execution_count": 5,
   "metadata": {},
   "outputs": [],
   "source": [
    "# 1. Load the data\n",
    "data = np.load(data_file_name)\n",
    "\n",
    "# 2. Save fields inside data\n",
    "images = data['images']  # (805, 128, 128)\n",
    "segs = data['segs']  # (805, 128, 128)\n",
    "caseNames = data['caseNames']  # 45\n",
    "caseIndices = data['caseIndices']  # 45\n",
    "caseTypeNames = data[\n",
    "    'caseTypeNames']  # ['Normal', 'Heart Failure With Infarct', 'Heart Failure Without Infarct', 'Hypertrophy']\n",
    "caseVoxelSize = data['caseVoxelSize']\n",
    "caseTypes = data['caseTypes']  # 45\n",
    "isEDImg = data['isEDImg']  # 805\n",
    "segTypes = data['segTypes']  # ['Background', 'LV Pool', 'Myocardium']\n",
    "\n",
    "# 3. Compute LVEDV, LVESV, LVSV and LVEF\n",
    "metrics = np.zeros((len(caseNames), 4))\n",
    "for ii, ind in enumerate(caseIndices):\n",
    "    indED_pat = isEDImg[ind[0]:ind[1]]\n",
    "    img_pat = images[ind[0]:ind[1], :, :]\n",
    "    seg_pat = segs[ind[0]:ind[1], :, :]\n",
    "    img_ED = img_pat[indED_pat, :, :]\n",
    "    img_ES = img_pat[~indED_pat, :, :]\n",
    "    seg_ED = seg_pat[indED_pat, :, :]\n",
    "    seg_ES = seg_pat[~indED_pat, :, :]\n",
    "    dx, dy, dz = caseVoxelSize[ii]\n",
    "    volume_per_voxel = dx * dy * dz * 1e-3\n",
    "    density = 1.05\n",
    "\n",
    "    metrics[ii, 0] = np.sum(np.sum(seg_ED == 1, axis=1)) * volume_per_voxel\n",
    "    metrics[ii, 1] = np.sum(np.sum(seg_ES == 1, axis=1)) * volume_per_voxel\n",
    "    metrics[ii, 2] = metrics[ii, 0] - metrics[ii, 1]\n",
    "    metrics[ii, 3] = metrics[ii, 2] / metrics[ii, 0] * 100\n"
   ]
  },
  {
   "cell_type": "markdown",
   "metadata": {},
   "source": [
    "# Visualize the data\n",
    "\n",
    "Plot LVEDV, LVESV, LVSV and LVEF per groups, i.e. LVEDV and LVESV, LVSV and LVEF"
   ]
  },
  {
   "cell_type": "code",
   "execution_count": 6,
   "metadata": {},
   "outputs": [
    {
     "data": {
      "text/plain": [
       "Text(0, 0.5, 'LVEF')"
      ]
     },
     "execution_count": 6,
     "metadata": {},
     "output_type": "execute_result"
    },
    {
     "data": {
      "image/png": "[encoded data removed]",
      "text/plain": [
       "<Figure size 1008x360 with 2 Axes>"
      ]
     },
     "metadata": {
      "needs_background": "light"
     },
     "output_type": "display_data"
    }
   ],
   "source": [
    "def PlotThreeClassData(X,y, title, caseTypeNames):\n",
    "    plt.scatter(X[y==0,0],X[y==0,1],c='r', label = caseTypeNames[0])\n",
    "    plt.scatter(X[y==1,0],X[y==1,1],c='b', label = caseTypeNames[1])\n",
    "    plt.scatter(X[y==2,0],X[y==2,1],c='m', label = caseTypeNames[2])\n",
    "    plt.legend()\n",
    "    plt.title(title)\n",
    "\n",
    "plt.figure(figsize = [14,5])\n",
    "plt.subplot(121)\n",
    "PlotThreeClassData(metrics[:,0:2], caseTypes, 'LVEDV vs LVESV', caseTypeNames)\n",
    "plt.xlabel('LVEDV')\n",
    "plt.ylabel('LVESV')\n",
    "\n",
    "plt.subplot(122)\n",
    "PlotThreeClassData(metrics[:,2:], caseTypes, 'LVSV vs LVEF', caseTypeNames)\n",
    "plt.xlabel('LVSV')\n",
    "plt.ylabel('LVEF')\n"
   ]
  },
  {
   "cell_type": "markdown",
   "metadata": {},
   "source": [
    "# Split data into training and test\n",
    "\n",
    "Data is unbalanced (there is no the same number of patients per group). We need to ensure that in the split training/test there is balanced number of classed. To this end use StratifiedShuffleSplit from scikit-learn that will automatically ensure that.\n",
    "https://scikit-learn.org/stable/modules/generated/sklearn.model_selection.StratifiedShuffleSplit.html"
   ]
  },
  {
   "cell_type": "code",
   "execution_count": 7,
   "metadata": {},
   "outputs": [],
   "source": [
    "sss = StratifiedShuffleSplit(n_splits=1, test_size=0.2, random_state=0)\n",
    "for train_index, test_index in sss.split(metrics, caseTypes):\n",
    "    X_train, X_test = metrics[train_index, :], metrics[test_index, :]\n",
    "    y_train, y_test = caseTypes[train_index], caseTypes[test_index]"
   ]
  },
  {
   "cell_type": "markdown",
   "metadata": {},
   "source": [
    "# Train a DNN network to perform classification\n"
   ]
  },
  {
   "cell_type": "code",
   "execution_count": 9,
   "metadata": {},
   "outputs": [
    {
     "name": "stdout",
     "output_type": "stream",
     "text": [
      "10000 0.7925359010696411\n",
      "20000 0.7742582559585571\n",
      "30000 0.7736721634864807\n",
      "40000 0.7737149000167847\n",
      "50000 0.7737371921539307\n",
      "60000 0.7736679911613464\n",
      "70000 0.7460464835166931\n",
      "80000 0.7467410564422607\n",
      "90000 0.7734676003456116\n",
      "100000 0.7736671566963196\n"
     ]
    },
    {
     "data": {
      "image/png": "[encoded data removed]",
      "text/plain": [
       "<Figure size 432x288 with 1 Axes>"
      ]
     },
     "metadata": {
      "needs_background": "light"
     },
     "output_type": "display_data"
    }
   ],
   "source": [
    "output_size = len(np.unique(caseTypes))\n",
    "net = DNN(output_size)\n",
    "\n",
    "xt = torch.from_numpy(X_train).type(torch.FloatTensor)\n",
    "yt = torch.from_numpy(y_train).type(torch.LongTensor)\n",
    "\n",
    "loss_func = torch.nn.CrossEntropyLoss()  # the target label is NOT an one-hotted\n",
    "opt = torch.optim.Adam(net.parameters(), lr=0.0001)\n",
    "\n",
    "losses = []\n",
    "\n",
    "for i in range(1, nb_iters + 1):\n",
    "    out = net(xt)  # input x and predict based on x\n",
    "    loss = loss_func(out, yt)  # must be (1. nn output, 2. target), the target label is NOT one-hotted\n",
    "\n",
    "    opt.zero_grad()  # clear gradients for next train\n",
    "    loss.backward()  # backpropagation, compute gradients\n",
    "    opt.step()  # apply gradients\n",
    "\n",
    "    losses.append(loss.item())\n",
    "\n",
    "    if i % (nb_iters // 10) == 0:\n",
    "        print(i, losses[-1])\n",
    "\n",
    "plt.figure()\n",
    "plt.semilogy(losses)\n",
    "plt.show()\n"
   ]
  },
  {
   "cell_type": "markdown",
   "metadata": {},
   "source": [
    "# Deploy network and compute metrics\n",
    "\n",
    "First deploy the trained netowrk and then compute the following metrics: balanced accuracy, precision, recall\n"
   ]
  },
  {
   "cell_type": "code",
   "execution_count": 10,
   "metadata": {},
   "outputs": [
    {
     "name": "stdout",
     "output_type": "stream",
     "text": [
      "Balanced accuracy  0.67\n",
      "               precision    recall\n",
      "\n",
      "       Normal       0.00       0.0\n",
      "Heart Failure       1.00       1.0\n",
      "  Hypertrophy       0.50       1.0\n",
      "\n",
      "\n"
     ]
    },
    {
     "name": "stderr",
     "output_type": "stream",
     "text": [
      "/home/epu14/code/anaconda3/lib/python3.6/site-packages/sklearn/metrics/classification.py:1143: UndefinedMetricWarning: Precision is ill-defined and being set to 0.0 in labels with no predicted samples.\n",
      "  'precision', 'predicted', average, warn_for)\n"
     ]
    }
   ],
   "source": [
    "with torch.no_grad():\n",
    "    net.eval()\n",
    "    out = torch.from_numpy(X_test).float()\n",
    "    out = net(out).data.numpy()\n",
    "    y_pred = np.argmax(out, axis=1)\n",
    "\n",
    "    # Compute metrics\n",
    "    compute_metrics(y_test, y_pred, caseTypeNames)"
   ]
  },
  {
   "cell_type": "markdown",
   "metadata": {},
   "source": [
    "# Case study 2\n",
    "\n",
    "Redo the same experiment but comparing healthy vs hypertrophic patients and __Healthy__ vs __Hypertrophic cardiomyopathy__ patients \n"
   ]
  },
  {
   "cell_type": "code",
   "execution_count": 11,
   "metadata": {},
   "outputs": [
    {
     "name": "stdout",
     "output_type": "stream",
     "text": [
      "10000 0.4884355366230011\n",
      "20000 0.5071763396263123\n",
      "30000 0.5351657867431641\n",
      "40000 0.47998127341270447\n",
      "50000 0.45882973074913025\n",
      "60000 0.47994619607925415\n",
      "70000 0.48011842370033264\n",
      "80000 0.4799444377422333\n",
      "90000 0.47994354367256165\n",
      "100000 0.47996971011161804\n",
      "Balanced accuracy  0.75\n",
      "              precision    recall\n",
      "\n",
      "      Normal       0.88       1.0\n",
      "Hypertrophic       1.00       0.5\n",
      "\n",
      "\n"
     ]
    },
    {
     "data": {
      "image/png": "[encoded data removed]",
      "text/plain": [
       "<Figure size 1008x360 with 2 Axes>"
      ]
     },
     "metadata": {
      "needs_background": "light"
     },
     "output_type": "display_data"
    }
   ],
   "source": [
    "def PlotTwoClassData(X, y, title, _caseTypeNames):\n",
    "    plt.scatter(X[y == 0, 0], X[y == 0, 1], c='r', label=_caseTypeNames[0])\n",
    "    plt.scatter(X[y == 1, 0], X[y == 1, 1], c='b', label=_caseTypeNames[1])\n",
    "    plt.legend()\n",
    "    plt.title(title)\n",
    "\n",
    "################# Case 2: healthy vs Hypertrophy ################# \n",
    "\n",
    "# 1. Generate new labels\n",
    "caseTypes2 = np.copy(caseTypes)\n",
    "caseTypes2[caseTypes2 == 1] = 0\n",
    "caseTypes2[caseTypes2 == 2] = 1\n",
    "caseTypeNames2 = ['Non-Hypertrophic', 'Hypertrophic']\n",
    "\n",
    "# 2. Plot data\n",
    "plt.figure(figsize=[14, 5])\n",
    "plt.subplot(121)\n",
    "PlotTwoClassData(metrics[:, 0:2], caseTypes2, 'Non-Hypertrophic vs Hypertrophic', caseTypeNames2)\n",
    "plt.xlabel('LVEDV')\n",
    "plt.ylabel('LVESV')\n",
    "plt.subplot(122)\n",
    "PlotTwoClassData(metrics[:, 2:], caseTypes2, 'Non-Hypertrophic vs Hypertrophic', caseTypeNames2)\n",
    "plt.xlabel('LVSV')\n",
    "plt.ylabel('LVEF')\n",
    "\n",
    "# 3. Split training/test\n",
    "sss = StratifiedShuffleSplit(n_splits=1, test_size=0.2, random_state=0)\n",
    "for train_index, test_index in sss.split(metrics, caseTypes2):\n",
    "    X2_train, X2_test = metrics[train_index, :], metrics[test_index, :]\n",
    "    y2_train, y2_test = caseTypes2[train_index], caseTypes2[test_index]\n",
    "\n",
    "# 4. Train DNN\n",
    "output_size = len(np.unique(caseTypes2))\n",
    "net2= DNN(output_size)\n",
    "\n",
    "xt = torch.from_numpy(X2_train).type(torch.FloatTensor)\n",
    "yt = torch.from_numpy(y2_train).type(torch.LongTensor)\n",
    "\n",
    "loss_func = torch.nn.CrossEntropyLoss()  # the target label is NOT an one-hotted\n",
    "opt = torch.optim.Adam(net2.parameters(), lr=0.0001)\n",
    "\n",
    "losses = []\n",
    "\n",
    "for i in range(1, nb_iters + 1):\n",
    "    out = net2(xt)  # input x and predict based on x\n",
    "    loss = loss_func(out, yt)  # must be (1. nn output, 2. target), the target label is NOT one-hotted\n",
    "\n",
    "    opt.zero_grad()  # clear gradients for next train\n",
    "    loss.backward()  # backpropagation, compute gradients\n",
    "    opt.step()  # apply gradients\n",
    "\n",
    "    losses.append(loss.item())\n",
    "\n",
    "    if i % (nb_iters // 10) == 0:\n",
    "        print(i, losses[-1])\n",
    "\n",
    "# 5. Deploy DNN\n",
    "with torch.no_grad():\n",
    "    net2.eval()\n",
    "    out = torch.from_numpy(X2_test).float()\n",
    "    out = net2(out).data.numpy()\n",
    "    y2_pred = np.argmax(out, axis=1)\n",
    "\n",
    "    # Compute metrics\n",
    "    compute_metrics(y2_test, y2_pred, caseTypeNames2)"
   ]
  },
  {
   "cell_type": "markdown",
   "metadata": {},
   "source": [
    "# Case study 3\n",
    "\n",
    "Redo the same experiment but comparing healthy vs hypertrophic patients and __Healthy__ vs __Heart Failure__ patients \n"
   ]
  },
  {
   "cell_type": "code",
   "execution_count": 10,
   "metadata": {},
   "outputs": [
    {
     "name": "stdout",
     "output_type": "stream",
     "text": [
      "10000 0.31328073143959045\n",
      "20000 0.3132616877555847\n",
      "30000 0.3132619261741638\n",
      "40000 0.3132616877555847\n",
      "50000 0.31326165795326233\n",
      "60000 0.31326165795326233\n",
      "70000 0.31326165795326233\n",
      "80000 0.31326165795326233\n",
      "90000 0.31326165795326233\n",
      "100000 0.31326165795326233\n",
      "Balanced accuracy  0.90\n",
      "               precision    recall\n",
      "\n",
      "       Normal       0.80       1.0\n",
      "Heart Failure       1.00       0.8\n",
      "\n",
      "\n"
     ]
    },
    {
     "data": {
      "image/png": "[encoded data removed]",
      "text/plain": [
       "<Figure size 1008x360 with 2 Axes>"
      ]
     },
     "metadata": {
      "needs_background": "light"
     },
     "output_type": "display_data"
    }
   ],
   "source": [
    "################# Case 3: healthy vs Heart Failure patients ################# \n",
    "\n",
    "# 1. Generate new labels\n",
    "caseTypes3 = np.copy(caseTypes)\n",
    "caseTypes3[caseTypes3 == 2] = 0\n",
    "caseTypeNames3 = ['Normal', 'Heart Failure']\n",
    "\n",
    "# 2. Plot data\n",
    "plt.figure(figsize = [14,5])\n",
    "plt.subplot(121)\n",
    "PlotTwoClassData(metrics[:,0:2], caseTypes3, 'Healthy vs Heart Failure', caseTypeNames3)\n",
    "plt.xlabel('LVEDV')\n",
    "plt.ylabel('LVESV')\n",
    "plt.subplot(122)\n",
    "PlotTwoClassData(metrics[:,2:], caseTypes3, 'Healthy vs Heart Failure', caseTypeNames3)\n",
    "plt.xlabel('LVSV')\n",
    "plt.ylabel('LVEF')\n",
    "\n",
    "# 3. Split training/test\n",
    "sss = StratifiedShuffleSplit(n_splits=1, test_size=0.2, random_state=0)\n",
    "for train_index, test_index in sss.split(metrics, caseTypes3):\n",
    "    X3_train, X3_test = metrics[train_index, :], metrics[test_index, :]\n",
    "    y3_train, y3_test = caseTypes3[train_index], caseTypes3[test_index]\n",
    "\n",
    "# 4. Train DNN\n",
    "output_size = len(np.unique(caseTypes3))\n",
    "net3= DNN(output_size)\n",
    "\n",
    "xt = torch.from_numpy(X3_train).type(torch.FloatTensor)\n",
    "yt = torch.from_numpy(y3_train).type(torch.LongTensor)\n",
    "\n",
    "loss_func = torch.nn.CrossEntropyLoss()  # the target label is NOT an one-hotted\n",
    "opt = torch.optim.Adam(net3.parameters(), lr=0.0001)\n",
    "\n",
    "losses = []\n",
    "\n",
    "for i in range(1, nb_iters + 1):\n",
    "    out = net3(xt)  # input x and predict based on x\n",
    "    loss = loss_func(out, yt)  # must be (1. nn output, 2. target), the target label is NOT one-hotted\n",
    "\n",
    "    opt.zero_grad()  # clear gradients for next train\n",
    "    loss.backward()  # backpropagation, compute gradients\n",
    "    opt.step()  # apply gradients\n",
    "\n",
    "    losses.append(loss.item())\n",
    "\n",
    "    if i % (nb_iters // 10) == 0:\n",
    "        print(i, losses[-1])\n",
    "\n",
    "# 5. Deploy DNN\n",
    "with torch.no_grad():\n",
    "    net3.eval()\n",
    "    out = torch.from_numpy(X3_test).float()\n",
    "    out = net3(out).data.numpy()\n",
    "    y3_pred = np.argmax(out, axis=1)\n",
    "\n",
    "    # Compute metrics\n",
    "    compute_metrics(y3_test, y3_pred, caseTypeNames3)"
   ]
  },
  {
   "cell_type": "markdown",
   "metadata": {},
   "source": [
    "# Optimisation parameters \n",
    "\n",
    "Choose the network with higher accuracy and tune the parameters of the DNN network to get the best performances\n",
    "Parameters to modify: \n",
    "- Learning rate\n",
    "- Number of iterations\n",
    "- Activation\n",
    "- Hidden layers\n",
    "- Dropout\n"
   ]
  },
  {
   "cell_type": "markdown",
   "metadata": {},
   "source": [
    "# (OPTIONAL) Cross validation for test set \n",
    "\n",
    "If we have a single test set, it might not be representative of the data and performance measures can be unreliable. To deal with this we can generate the test set multiple times as well, using k-fold cross-validation. The class ```StratifiedKFold``` splits the data into K folds making sure that labels are represented proportionally. \n",
    "\n",
    "In the code below, input the optimal parameters that you tuned in the previous exercercise. Run the code to see what is the average performance on test sets when using cross-validation strategy.\n"
   ]
  },
  {
   "cell_type": "code",
   "execution_count": 11,
   "metadata": {},
   "outputs": [
    {
     "name": "stdout",
     "output_type": "stream",
     "text": [
      "10000 0.6351199150085449\n",
      "20000 0.6143338680267334\n",
      "30000 0.6275115609169006\n",
      "40000 0.6242376565933228\n",
      "50000 0.6121710538864136\n",
      "60000 0.608953058719635\n",
      "70000 0.6145234107971191\n",
      "80000 0.6072753667831421\n",
      "90000 0.6071552038192749\n",
      "100000 0.6046559810638428\n",
      "Balanced accuracy  0.50\n",
      "               precision    recall\n",
      "\n",
      "       Normal       0.33       0.5\n",
      "Heart Failure       1.00       1.0\n",
      "  Hypertrophy       0.00       0.0\n",
      "\n",
      "\n",
      "10000 0.6809964776039124\n",
      "20000 0.6659955382347107\n",
      "30000 0.6687982082366943\n",
      "40000 0.6704833507537842\n",
      "50000 0.6625763773918152\n",
      "60000 0.6923021674156189\n",
      "70000 0.6687121987342834\n",
      "80000 0.6705406308174133\n",
      "90000 0.6905412673950195\n",
      "100000 0.6626525521278381\n",
      "Balanced accuracy  0.67\n",
      "               precision    recall\n",
      "\n",
      "       Normal       1.00       0.5\n",
      "Heart Failure       0.83       1.0\n",
      "  Hypertrophy       0.50       0.5\n",
      "\n",
      "\n",
      "10000 0.6636044979095459\n",
      "20000 0.6628994941711426\n",
      "30000 0.6866182088851929\n",
      "40000 0.6625690460205078\n",
      "50000 0.6671357750892639\n",
      "60000 0.6626354455947876\n",
      "70000 0.6901652216911316\n",
      "80000 0.6903308033943176\n",
      "90000 0.6905834674835205\n",
      "100000 0.662611722946167\n",
      "Balanced accuracy  0.67\n",
      "               precision    recall\n",
      "\n",
      "       Normal       0.50       0.5\n",
      "Heart Failure       1.00       1.0\n",
      "  Hypertrophy       0.50       0.5\n",
      "\n",
      "\n",
      "10000 0.714751660823822\n",
      "20000 0.6898971796035767\n",
      "30000 0.6884862184524536\n",
      "40000 0.687782347202301\n",
      "50000 0.6881040334701538\n",
      "60000 0.6877923607826233\n",
      "70000 0.6879855394363403\n",
      "80000 0.687781572341919\n",
      "90000 0.687796950340271\n",
      "100000 0.687745988368988\n",
      "Balanced accuracy  0.50\n",
      "               precision    recall\n",
      "\n",
      "       Normal       0.50       0.5\n",
      "Heart Failure       0.83       1.0\n",
      "  Hypertrophy       0.00       0.0\n",
      "\n",
      "\n",
      "10000 0.698083221912384\n",
      "20000 0.6566142439842224\n",
      "30000 0.6623212695121765\n",
      "40000 0.6624410152435303\n",
      "50000 0.6586617231369019\n",
      "60000 0.6364513039588928\n",
      "70000 0.5889168381690979\n",
      "80000 0.5817327499389648\n",
      "90000 0.5803098082542419\n",
      "100000 0.5779774785041809\n",
      "Balanced accuracy  0.83\n",
      "               precision    recall\n",
      "\n",
      "       Normal       1.00       0.5\n",
      "Heart Failure       1.00       1.0\n",
      "  Hypertrophy       0.67       1.0\n",
      "\n",
      "\n"
     ]
    }
   ],
   "source": [
    "sss = StratifiedShuffleSplit(n_splits=5, test_size=0.2, random_state=0)\n",
    "for train_index, test_index in sss.split(metrics, caseTypes):\n",
    "    X_train, X_test = metrics[train_index, :], metrics[test_index, :]\n",
    "    y_train, y_test = caseTypes[train_index], caseTypes[test_index]\n",
    "\n",
    "    #Train DNN\n",
    "    output_size = len(np.unique(caseTypes))\n",
    "    net= DNN(output_size)\n",
    "\n",
    "    xt = torch.from_numpy(X_train).type(torch.FloatTensor)\n",
    "    yt = torch.from_numpy(y_train).type(torch.LongTensor)\n",
    "\n",
    "    loss_func = torch.nn.CrossEntropyLoss()  # the target label is NOT an one-hotted\n",
    "    opt = torch.optim.Adam(net.parameters(), lr=0.0001)\n",
    "\n",
    "    losses = []\n",
    "\n",
    "    for i in range(1, nb_iters + 1):\n",
    "        out = net(xt)  # input x and predict based on x\n",
    "        loss = loss_func(out, yt)  # must be (1. nn output, 2. target), the target label is NOT one-hotted\n",
    "\n",
    "        opt.zero_grad()  # clear gradients for next train\n",
    "        loss.backward()  # backpropagation, compute gradients\n",
    "        opt.step()  # apply gradients\n",
    "\n",
    "        losses.append(loss.item())\n",
    "\n",
    "#         if i % (nb_iters // 10) == 0:\n",
    "#             print(i, losses[-1])\n",
    "\n",
    "    # 5. Deploy DNN\n",
    "    with torch.no_grad():\n",
    "        net.eval()\n",
    "        out = torch.from_numpy(X_test).float()\n",
    "        out = net(out).data.numpy()\n",
    "        y_pred = np.argmax(out, axis=1)\n",
    "\n",
    "        # Compute metrics\n",
    "        compute_metrics(y_test, y_pred, caseTypeNames)\n"
   ]
  },
  {
   "cell_type": "markdown",
   "metadata": {},
   "source": [
    "# (OPTIONAL) Comparison to more standard machine learning techniques: SVM\n"
   ]
  },
  {
   "cell_type": "code",
   "execution_count": 12,
   "metadata": {},
   "outputs": [
    {
     "name": "stdout",
     "output_type": "stream",
     "text": [
      "Balanced accuracy  0.62\n",
      "               precision    recall\n",
      "\n",
      "       Normal       1.00      0.25\n",
      "Heart Failure       0.62       1.0\n",
      "\n",
      "\n"
     ]
    },
    {
     "name": "stderr",
     "output_type": "stream",
     "text": [
      "/home/epu14/code/anaconda3/lib/python3.6/site-packages/sklearn/svm/base.py:196: FutureWarning: The default value of gamma will change from 'auto' to 'scale' in version 0.22 to account better for unscaled features. Set gamma explicitly to 'auto' or 'scale' to avoid this warning.\n",
      "  \"avoid this warning.\", FutureWarning)\n"
     ]
    },
    {
     "data": {
      "text/plain": [
       "(62.5, array([100. ,  62.5]), array([ 25., 100.]))"
      ]
     },
     "execution_count": 12,
     "metadata": {},
     "output_type": "execute_result"
    }
   ],
   "source": [
    "from sklearn.svm import SVC\n",
    "from sklearn.preprocessing import StandardScaler\n",
    "\n",
    "# 1. Generate new labels\n",
    "caseTypes3 = np.copy(caseTypes)\n",
    "caseTypes3[caseTypes3 == 2] = 0\n",
    "caseTypeNames3 = ['Normal', 'Heart Failure']\n",
    "\n",
    "# 3. Split training/test\n",
    "sss = StratifiedShuffleSplit(n_splits=1, test_size=0.2, random_state=0)\n",
    "for train_index, test_index in sss.split(metrics, caseTypes3):\n",
    "    X3_train, X3_test = metrics[train_index, :], metrics[test_index, :]\n",
    "    y3_train, y3_test = caseTypes3[train_index], caseTypes3[test_index]\n",
    "\n",
    "# Train\n",
    "model = SVC(kernel='rbf')\n",
    "model.fit(X3_train,y3_train)\n",
    "\n",
    "# Test\n",
    "y_pred = model.predict(X3_test)\n",
    "\n",
    "# Validation\n",
    "compute_metrics(y3_test, y_pred, caseTypeNames3)\n"
   ]
  },
  {
   "cell_type": "markdown",
   "metadata": {},
   "source": [
    "# Conclusion/ Questions\n",
    "\n",
    "* which set of clinical parameters performed better in differentiating between groups\n",
    "* How does the learning rate affect to your model?\n",
    "* Which is the influence of choosing different activation functions?\n",
    "* Is there any advantage of using DNN compared to a more standard machine learning techniques?"
   ]
  },
  {
   "cell_type": "code",
   "execution_count": null,
   "metadata": {},
   "outputs": [],
   "source": []
  }
 ],
 "metadata": {
  "kernelspec": {
   "display_name": "Python 3",
   "language": "python",
   "name": "python3"
  },
  "language_info": {
   "codemirror_mode": {
    "name": "ipython",
    "version": 3
   },
   "file_extension": ".py",
   "mimetype": "text/x-python",
   "name": "python",
   "nbconvert_exporter": "python",
   "pygments_lexer": "ipython3",
   "version": "3.6.8"
  }
 },
 "nbformat": 4,
 "nbformat_minor": 2
}
