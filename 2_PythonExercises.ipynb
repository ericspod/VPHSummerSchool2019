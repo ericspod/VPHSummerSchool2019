{
 "cells": [
  {
   "cell_type": "markdown",
   "metadata": {},
   "source": [
    "# Python Exercises\n",
    "## Eric Kerfoot, Esther Puyol\n",
    "VPH Summer School 2019\n",
    "\n",
    "The purpose of this notebook is to provide of exercises for the concepts discussed in the introduction lecture. Below will be a number of cells with comments describing what code needs to be provided or other instructions."
   ]
  },
  {
   "cell_type": "markdown",
   "metadata": {},
   "source": [
    "The first concepts we discussed were types:"
   ]
  },
  {
   "cell_type": "code",
   "execution_count": null,
   "metadata": {},
   "outputs": [],
   "source": [
    "val = 42\n",
    "print(val)"
   ]
  },
  {
   "cell_type": "markdown",
   "metadata": {},
   "source": [
    "The integer value `42` is numerically equivalent to the floating point value is represented as a different type. The type names `int` and `float` can be used to convert between types:"
   ]
  },
  {
   "cell_type": "code",
   "execution_count": null,
   "metadata": {},
   "outputs": [],
   "source": [
    "fval=float(val)\n",
    "print(val,fval)"
   ]
  },
  {
   "cell_type": "markdown",
   "metadata": {},
   "source": [
    "The `type` function can be used to query the type of objects:"
   ]
  },
  {
   "cell_type": "code",
   "execution_count": null,
   "metadata": {},
   "outputs": [],
   "source": [
    "print(type(val),type(fval))"
   ]
  },
  {
   "cell_type": "markdown",
   "metadata": {},
   "source": [
    "How these different types produce different results when applied to numeric operators is important to understand. Assign integer and float values in different combinations to `a` and `b` to see what the `+` operator does:"
   ]
  },
  {
   "cell_type": "code",
   "execution_count": null,
   "metadata": {},
   "outputs": [],
   "source": [
    "# replace None with integer or float values\n",
    "a = None\n",
    "b = None\n",
    "\n",
    "print(a+b,type(a),type(b),type(a+b))"
   ]
  },
  {
   "cell_type": "markdown",
   "metadata": {},
   "source": [
    "Operators are provided for mathematics (`+ - * / // %`), comparison (`== != <= >= < >`) and others. "
   ]
  },
  {
   "cell_type": "code",
   "execution_count": null,
   "metadata": {},
   "outputs": [],
   "source": [
    "# use operators to print out the product and ratio of `a` to `b` with different values. "
   ]
  },
  {
   "cell_type": "markdown",
   "metadata": {},
   "source": [
    "The type names `int`, `float`, `str`, and others can be used to convert between values:"
   ]
  },
  {
   "cell_type": "code",
   "execution_count": null,
   "metadata": {},
   "outputs": [],
   "source": [
    "# replace None with the string representation of `a`\n",
    "astr = None\n",
    "\n",
    "print(astr,type(astr),a==astr)"
   ]
  },
  {
   "cell_type": "markdown",
   "metadata": {},
   "source": [
    "We construct lists with the `list` operator or `[]` syntax. Similarly tuple can be constructed with `tuple` or `()`. "
   ]
  },
  {
   "cell_type": "code",
   "execution_count": null,
   "metadata": {},
   "outputs": [],
   "source": [
    "names = ['John','Graham']\n",
    "# add a name to the end of the list using append()\n",
    "\n",
    "print(names)\n",
    "# print the 0'th element of names\n",
    "print()"
   ]
  },
  {
   "cell_type": "code",
   "execution_count": null,
   "metadata": {},
   "outputs": [],
   "source": [
    "names = ('John','Graham') # can't modify tuples\n",
    "\n",
    "newnames=# add a name to names by creating a new tuple \n",
    "\n",
    "print(newnames)"
   ]
  },
  {
   "cell_type": "markdown",
   "metadata": {},
   "source": [
    "Conditionals in Python take the form of `if-elif-else` code blocks. The condition checks to see if the given expression evaluates to `True` and executes the block if this is so, otherwise it checks the next `elif` block or `else` block."
   ]
  },
  {
   "cell_type": "code",
   "execution_count": null,
   "metadata": {},
   "outputs": [],
   "source": [
    "number = 3.14159 # try other values\n",
    "\n",
    "# use an if-else block to print \"Yes\" if `number` is greater than 0 otherwise \"No\" "
   ]
  },
  {
   "cell_type": "markdown",
   "metadata": {},
   "source": [
    "The `for` loop can be used to iterate over the members of a collection such as a list or tuple. "
   ]
  },
  {
   "cell_type": "code",
   "execution_count": null,
   "metadata": {},
   "outputs": [],
   "source": [
    "numbers = [411, 131, 272, 737, 129, 591, 943, 801, 62, 357, 199, 814, 136, 523, 556, 55, 860, 943, 411, 760]\n",
    "\n",
    "# write a loop to print the even numbers from `numbers` (% is remainder operator)"
   ]
  },
  {
   "cell_type": "markdown",
   "metadata": {},
   "source": [
    "Routines are defined starting with the `def` keyword, the name of the routine, its arguments, then its body."
   ]
  },
  {
   "cell_type": "code",
   "execution_count": null,
   "metadata": {},
   "outputs": [],
   "source": [
    "# define a routine called `isEven` which returns whether a given number is even or not\n",
    "\n",
    "print(isEven(42),isEven(numbers[11]),isEven(numbers[-1])) # -1 is the last element, -2 second last, etc."
   ]
  },
  {
   "cell_type": "code",
   "execution_count": null,
   "metadata": {},
   "outputs": [],
   "source": [
    "# a list comprehension is an expression which builds a list using an internal for loop\n",
    "print([v for v in numbers if isEven(v)]) # print all the even numbers\n",
    "\n",
    "# define a function `getEvens` to do the same thing for a given input list\n",
    "\n",
    "print(getEvens(numbers))"
   ]
  },
  {
   "cell_type": "markdown",
   "metadata": {},
   "source": [
    "Recall the `Dimension` type from the lecture notes:"
   ]
  },
  {
   "cell_type": "code",
   "execution_count": null,
   "metadata": {},
   "outputs": [],
   "source": [
    "class Dimension:\n",
    "    def __init__(self, width, height): # constructor for object\n",
    "        self.width = width # declare members by assignment\n",
    "        self.height = height\n",
    "        \n",
    "    def measure(self): # method of class\n",
    "        return self.width * self.height"
   ]
  },
  {
   "cell_type": "code",
   "execution_count": null,
   "metadata": {},
   "outputs": [],
   "source": [
    "# Define a subclass of `Dimension` called `Dimension3` which adds a third dimension member `depth` and \n",
    "# overrides `measure()` appropriately:\n"
   ]
  },
  {
   "cell_type": "code",
   "execution_count": null,
   "metadata": {},
   "outputs": [],
   "source": [
    "d=Dimension3(10,12,22)\n",
    "\n",
    "print(d,d.depth,d.measure())\n",
    "\n",
    "# assert is used to assert some property of the program is True\n",
    "assert d.measure() == (10*12*22)"
   ]
  },
  {
   "cell_type": "markdown",
   "metadata": {},
   "source": [
    "## Numpy"
   ]
  },
  {
   "cell_type": "markdown",
   "metadata": {},
   "source": [
    "Numpy is the numeric Python package we use for large array data. It is typically imported with `import numpy as np` so that it can be conveniently referred to by the short name `np`. "
   ]
  },
  {
   "cell_type": "code",
   "execution_count": null,
   "metadata": {},
   "outputs": [],
   "source": [
    "# import numpy and convert `numbers` to a numpy array by applying np.array to it\n",
    "arr=\n",
    "print(arr.shape, arr.ndim, arr.dtype)"
   ]
  },
  {
   "cell_type": "markdown",
   "metadata": {},
   "source": [
    "Given `arr`, create a new array of the same length containing the cumulative sum for each position in `arr` (ie. position `i` in your new array is the sum of `arr` up to `i`)"
   ]
  },
  {
   "cell_type": "code",
   "execution_count": null,
   "metadata": {},
   "outputs": [],
   "source": [
    "cumsum=np.zeros_like(arr) # zeros_like creates a new array of the same type/size but with zeros\n",
    "# fill in cumsum here (don't cheat and use np.cumsum)"
   ]
  },
  {
   "cell_type": "markdown",
   "metadata": {},
   "source": [
    "We can then use matplotlib to visualize this as a plot:"
   ]
  },
  {
   "cell_type": "code",
   "execution_count": null,
   "metadata": {
    "scrolled": false
   },
   "outputs": [],
   "source": [
    "%matplotlib inline\n",
    "import matplotlib.pyplot as plt\n",
    "\n",
    "plt.plot(cumsum)"
   ]
  },
  {
   "cell_type": "code",
   "execution_count": null,
   "metadata": {},
   "outputs": [],
   "source": [
    "# expand on the above by plotting the `cumsum` value with the original `arr` value using different line styles\n",
    "# see: https://matplotlib.org/3.1.0/api/_as_gen/matplotlib.pyplot.plot.html#matplotlib.pyplot.plot"
   ]
  },
  {
   "cell_type": "markdown",
   "metadata": {},
   "source": [
    "Matrices can be indexed directly to read or write values. This allows a loop, or nested loops, to iterate over the members of an array to fill it in. "
   ]
  },
  {
   "cell_type": "code",
   "execution_count": null,
   "metadata": {},
   "outputs": [],
   "source": [
    "dim=40 # try other values\n",
    "arr=np.zeros((dim,dim)) # try non-square matrices \n",
    "\n",
    "# fill in the members of `arr` such that the entry at [i,j] equals i*j"
   ]
  },
  {
   "cell_type": "markdown",
   "metadata": {},
   "source": [
    "A 2D array can be treated like an image with Matplotlib:"
   ]
  },
  {
   "cell_type": "code",
   "execution_count": null,
   "metadata": {},
   "outputs": [],
   "source": [
    "plt.imshow(arr)"
   ]
  },
  {
   "cell_type": "code",
   "execution_count": null,
   "metadata": {},
   "outputs": [],
   "source": [
    "# Set a 2-pixel border of `arr` to -1 and plot it again"
   ]
  },
  {
   "cell_type": "markdown",
   "metadata": {},
   "source": [
    "Let's view a color image:"
   ]
  },
  {
   "cell_type": "code",
   "execution_count": null,
   "metadata": {},
   "outputs": [],
   "source": [
    "# in Colab you will have to download the file first, comment it out otherwise\n",
    "![ -f chelsea.png ] || wget https://github.com/ericspod/VPHSummerSchool2019/raw/master/chelsea.png\n",
    "    \n",
    "cat=plt.imread('chelsea.png')\n",
    "print(cat.shape)\n",
    "plt.imshow(cat)"
   ]
  },
  {
   "cell_type": "code",
   "execution_count": null,
   "metadata": {},
   "outputs": [],
   "source": [
    "# A color image is stored in HWC order where C is the red-green-blue channels. Convert the above image to\n",
    "# greyscale by multiplying the channels together by some weighted factor and show it."
   ]
  }
 ],
 "metadata": {
  "kernelspec": {
   "display_name": "Python 3",
   "language": "python",
   "name": "python3"
  },
  "language_info": {
   "codemirror_mode": {
    "name": "ipython",
    "version": 3
   },
   "file_extension": ".py",
   "mimetype": "text/x-python",
   "name": "python",
   "nbconvert_exporter": "python",
   "pygments_lexer": "ipython3",
   "version": "3.7.3"
  }
 },
 "nbformat": 4,
 "nbformat_minor": 2
}
